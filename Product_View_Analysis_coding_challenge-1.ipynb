{
 "cells": [
  {
   "cell_type": "code",
   "execution_count": 2,
   "metadata": {
    "colab": {
     "base_uri": "https://localhost:8080/",
     "height": 73
    },
    "executionInfo": {
     "elapsed": 11380,
     "status": "ok",
     "timestamp": 1742448283259,
     "user": {
      "displayName": "Shyam Kumar",
      "userId": "13275773866271753200"
     },
     "user_tz": -330
    },
    "id": "nxhBWx0Q_7gX",
    "outputId": "f3c6d922-868c-425d-a635-c4d33320a98c"
   },
   "outputs": [
    {
     "name": "stdout",
     "output_type": "stream",
     "text": [
      "         Date            Parent org                       Brand  \\\n",
      "0  2024-06-25            loreal_org         lorealprofessionnel   \n",
      "1  2024-05-20  colgatepalmolive_org                   palmolive   \n",
      "2  2024-05-12         mamaearth_org                   mamaearth   \n",
      "3  2024-06-24            loreal_org         lorealprofessionnel   \n",
      "4  2024-05-11               itc_org  itcmasterchefcookingpastes   \n",
      "\n",
      "      Product Id  Product View Count  \n",
      "0    12378088373                   2  \n",
      "1  8901314508324                   1  \n",
      "2  8906087776758                  20  \n",
      "3  3474630587472                   5  \n",
      "4  8901725113148                   1  \n"
     ]
    }
   ],
   "source": [
    "import pandas as pd\n",
    "df = pd.read_csv(\"Product View Analysis - Sheet1.csv\")\n",
    "\n",
    "# Display the first few rows\n",
    "print(df.head())\n"
   ]
  },
  {
   "cell_type": "code",
   "execution_count": 3,
   "metadata": {
    "colab": {
     "base_uri": "https://localhost:8080/"
    },
    "executionInfo": {
     "elapsed": 44,
     "status": "ok",
     "timestamp": 1742448301903,
     "user": {
      "displayName": "Shyam Kumar",
      "userId": "13275773866271753200"
     },
     "user_tz": -330
    },
    "id": "ELaPS3zpAdlW",
    "outputId": "bb14ba65-0bf2-435d-9a8c-c47344a72c8c"
   },
   "outputs": [
    {
     "name": "stdout",
     "output_type": "stream",
     "text": [
      "loreal_org: 917991\n",
      "  - lorealparis: 721216\n",
      "  - maybelline: 92812\n",
      "  - garnier: 81104\n",
      "  - cheryls: 11993\n",
      "  - lorealprofessionnel: 9420\n",
      "  - matrix: 1445\n",
      "  - kerastase: 1\n",
      "unilever_org: 584380\n",
      "  - horlicks: 141732\n",
      "  - lipton: 97514\n",
      "  - dove: 75977\n",
      "  - kwalitywalls: 74739\n",
      "  - vaseline: 52472\n",
      "  - redlabel: 38176\n",
      "  - ponds: 29368\n",
      "  - cornetto: 18261\n",
      "  - boost: 9836\n",
      "  - surfexcel: 8266\n",
      "  - sunsilk: 7069\n",
      "  - closeup: 5831\n",
      "  - knorr: 5406\n",
      "  - kissan: 5325\n",
      "  - rexona: 4335\n",
      "  - smartpick: 4123\n",
      "  - bru: 1917\n",
      "  - comfort: 1557\n",
      "  - magnum: 1329\n",
      "  - moti: 995\n",
      "  - axe: 152\n",
      "mamaearth_org: 113660\n",
      "  - mamaearth: 113660\n",
      "hersheys_org: 111932\n",
      "  - kisses: 62521\n",
      "  - hersheysexoticdark: 49363\n",
      "  - hersheys: 32\n",
      "  - sofit: 16\n",
      "nestle_org: 18803\n",
      "  - maggi: 10797\n",
      "  - nescafe: 2613\n",
      "  - milkmaid: 2499\n",
      "  - ceregrow: 1500\n",
      "  - lactogrow: 754\n",
      "  - nangrow: 518\n",
      "  - maggispicemix: 29\n",
      "  - nestle: 27\n",
      "  - maggirecipe: 25\n",
      "  - milo: 19\n",
      "  - asknestle: 18\n",
      "  - everyday: 2\n",
      "  - nestleprofessional: 2\n",
      "itc_org: 18576\n",
      "  - aashirvaadnaturessuperfoods: 17830\n",
      "  - aashirvaadmultigrain: 253\n",
      "  - savlon: 184\n",
      "  - aashirvaad: 105\n",
      "  - aashirvaadselect: 77\n",
      "  - itcmasterchefcookingpastes: 50\n",
      "  - itcmasterchefbasegravies: 20\n",
      "  - aashirvaadnaturessuperfoodsorganic: 18\n",
      "  - aashirvaadinstantmixes: 15\n",
      "  - aashirvaadinstantmeals: 15\n",
      "  - sunbean: 7\n",
      "  - fiama: 2\n",
      "mondelez_org: 17457\n",
      "  - cadburybournville: 13711\n",
      "  - cadburyfuse: 3746\n",
      "mondelezinternational_org: 15398\n",
      "  - cadburyfuse: 9190\n",
      "  - cadburybournville: 6208\n",
      "godrej_org: 14191\n",
      "  - hit: 12451\n",
      "  - goodknight: 1039\n",
      "  - ezee: 326\n",
      "  - protekt: 318\n",
      "  - genteel: 57\n",
      "gsk_org: 4045\n",
      "  - sensodyne: 4045\n",
      "colgatepalmolive_org: 3358\n",
      "  - colgate: 3015\n",
      "  - palmolive: 343\n",
      "kcl_org: 814\n",
      "  - huggies: 814\n",
      "kimberlyclark_org: 691\n",
      "  - huggies: 691\n",
      "shortlyst_org: 515\n",
      "  - shortlyst: 515\n",
      "cipla_org: 64\n",
      "  - mamaxpert: 64\n",
      "oceanssecret_org: 3\n",
      "  - oceanssecret: 3\n"
     ]
    }
   ],
   "source": [
    " # Group by Parent Org and Brand and sum the Product View Count\n",
    "grouped_data = df.groupby([\"Parent org\", \"Brand\"], as_index=False)[\"Product View Count\"].sum()\n",
    "\n",
    "# Calculate cumulative product view count at Parent Org level\n",
    "parent_org_views = grouped_data.groupby(\"Parent org\")[\"Product View Count\"].sum().reset_index()\n",
    "\n",
    "# Sort Parent Orgs based on cumulative Product View Count in descending order\n",
    "parent_org_views = parent_org_views.sort_values(by=\"Product View Count\", ascending=False)\n",
    "\n",
    "# Print the results in the required format\n",
    "for _, parent_row in parent_org_views.iterrows():\n",
    "    parent_org = parent_row[\"Parent org\"]\n",
    "    parent_count = parent_row[\"Product View Count\"]\n",
    "    print(f\"{parent_org}: {parent_count}\")\n",
    "\n",
    "    # Get brands under this parent org and sort them by Product View Count\n",
    "    brand_data = grouped_data[grouped_data[\"Parent org\"] == parent_org]\n",
    "    brand_data = brand_data.sort_values(by=\"Product View Count\", ascending=False)\n",
    "\n",
    "    for _, brand_row in brand_data.iterrows():\n",
    "        brand = brand_row[\"Brand\"]\n",
    "        brand_count = brand_row[\"Product View Count\"]\n",
    "        print(f\"  - {brand}: {brand_count}\")"
   ]
  }
 ],
 "metadata": {
  "colab": {
   "authorship_tag": "ABX9TyNT9rHhpqVybnAoI2nW8Znk",
   "provenance": []
  },
  "kernelspec": {
   "display_name": "Python 3",
   "name": "python3"
  },
  "language_info": {
   "codemirror_mode": {
    "name": "ipython",
    "version": 3
   },
   "file_extension": ".py",
   "mimetype": "text/x-python",
   "name": "python",
   "nbconvert_exporter": "python",
   "pygments_lexer": "ipython3",
   "version": "3.12.2"
  }
 },
 "nbformat": 4,
 "nbformat_minor": 0
}
